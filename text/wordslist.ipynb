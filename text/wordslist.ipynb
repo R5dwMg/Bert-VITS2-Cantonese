{
 "cells": [
  {
   "cell_type": "code",
   "execution_count": 11,
   "metadata": {},
   "outputs": [],
   "source": [
    "import jieba\n",
    "import re"
   ]
  },
  {
   "cell_type": "code",
   "execution_count": 44,
   "metadata": {},
   "outputs": [],
   "source": [
    "word_dict = {}\n",
    "\n",
    "with open('/notebooks/bert-vits2/Bert-VITS2-Cantonese/text/wordshk.csv', 'r') as f:\n",
    "    for line in f.readlines():\n",
    "        [w, *jyutpings] = line.strip().split(',')\n",
    "        w = w.replace('*', '')\n",
    "\n",
    "        word_dict[w] = ' '.join(jyutpings)\n",
    "\n",
    "with open('/notebooks/bert-vits2/Bert-VITS2-Cantonese/text/cccanto-webdist.txt') as f:\n",
    "    # sample lines: '一件還一件 一件还一件 [yi1 jian4 hai2 yi2 jian4] {jat1 gin6 waan4 jat1 gin6} /a different matter/don't mix another incident with this one/'\n",
    "    # '一草 一草 [yi1 cao3] {jat1 cou2} /ten dollars/'\n",
    "    pattern = re.compile(r'^(.+) (.+) \\[(.+)\\] \\{(.+)\\} (.+)$')\n",
    "    lines = f.readlines()\n",
    "    \n",
    "    for line in lines:\n",
    "        matches = pattern.match(line)\n",
    "\n",
    "        if matches is None:\n",
    "            continue\n",
    "        \n",
    "        matches = matches.groups()\n",
    "        w, jyutpings = matches[0], matches[3]\n",
    "        jyutpings = [jp for jp in jyutpings.split(' ')]\n",
    "\n",
    "        for i, jp in enumerate(jyutpings):\n",
    "            if '*' in jp:\n",
    "                jyutpings[i] = jp.split('*')[0] # multiple pronunciations, only take the first one\n",
    "        \n",
    "        jyutpings = ' '.join(jyutpings)\n",
    "\n",
    "        if w in word_dict or len(w) == 1:\n",
    "            continue\n",
    "        \n",
    "        word_dict[w] = jyutpings\n",
    "\n",
    "with open('/notebooks/bert-vits2/Bert-VITS2-Cantonese/text/words.csv', 'w') as f:\n",
    "    for w, jyutpings in word_dict.items():\n",
    "        f.write(f'{w}\\n')\n",
    "\n",
    "with open('/notebooks/bert-vits2/Bert-VITS2-Cantonese/text/dict.tsv', 'w') as f:\n",
    "    for w, jyutpings in word_dict.items():\n",
    "        f.write(f'{w}\\t{jyutpings}\\n')"
   ]
  },
  {
   "cell_type": "code",
   "execution_count": 46,
   "metadata": {},
   "outputs": [],
   "source": [
    "jieba.load_userdict('/notebooks/bert-vits2/Bert-VITS2-Cantonese/text/words.csv')"
   ]
  },
  {
   "cell_type": "code",
   "execution_count": 47,
   "metadata": {},
   "outputs": [
    {
     "name": "stdout",
     "output_type": "stream",
     "text": [
      "\n"
     ]
    }
   ],
   "source": [
    "test_sent = (\n",
    "  \"李小福係創新辦主任亦係雲端電腦方面嘅專家 ; 乜鬼係八一雙鹿\"\n",
    "  \"唔清楚嘅話就問小明吧 ; 醫生係醫院工作 ; 他們在商店買東西...\"\n",
    ")\n",
    "words = jieba.cut(test_sent)\n",
    "\n",
    "print('/'.join(words))"
   ]
  },
  {
   "cell_type": "code",
   "execution_count": null,
   "metadata": {},
   "outputs": [],
   "source": []
  }
 ],
 "metadata": {
  "kernelspec": {
   "display_name": "Python 3 (ipykernel)",
   "language": "python",
   "name": "python3"
  },
  "language_info": {
   "codemirror_mode": {
    "name": "ipython",
    "version": 3
   },
   "file_extension": ".py",
   "mimetype": "text/x-python",
   "name": "python",
   "nbconvert_exporter": "python",
   "pygments_lexer": "ipython3",
   "version": "3.8.18"
  }
 },
 "nbformat": 4,
 "nbformat_minor": 2
}
